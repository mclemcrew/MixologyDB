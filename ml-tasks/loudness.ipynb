{
 "cells": [
  {
   "cell_type": "code",
   "execution_count": 2,
   "metadata": {},
   "outputs": [
    {
     "name": "stdout",
     "output_type": "stream",
     "text": [
      "Requirement already satisfied: pyloudnorm in /Users/mclem/Development/MixologyDB/.conda/lib/python3.11/site-packages (0.1.1)\n",
      "Requirement already satisfied: scipy>=1.0.1 in /Users/mclem/Development/MixologyDB/.conda/lib/python3.11/site-packages (from pyloudnorm) (1.12.0)\n",
      "Requirement already satisfied: numpy>=1.14.2 in /Users/mclem/Development/MixologyDB/.conda/lib/python3.11/site-packages (from pyloudnorm) (1.26.4)\n",
      "Requirement already satisfied: future>=0.16.0 in /Users/mclem/Development/MixologyDB/.conda/lib/python3.11/site-packages (from pyloudnorm) (1.0.0)\n"
     ]
    }
   ],
   "source": [
    "!pip install pyloudnorm"
   ]
  },
  {
   "cell_type": "code",
   "execution_count": 6,
   "metadata": {},
   "outputs": [
    {
     "name": "stdout",
     "output_type": "stream",
     "text": [
      "-12.264869713433173\n"
     ]
    }
   ],
   "source": [
    "import soundfile as sf\n",
    "import pyloudnorm as pyln\n",
    "\n",
    "data, rate = sf.read(\"/Users/mclem/Downloads/The Winter Coffee Resort.mp3\") # load audio (with shape (samples, channels))\n",
    "meter = pyln.Meter(rate) # create BS.1770 meter\n",
    "loudness = meter.integrated_loudness(data) # measure loudness\n",
    "\n",
    "print(loudness)"
   ]
  }
 ],
 "metadata": {
  "kernelspec": {
   "display_name": "Python 3",
   "language": "python",
   "name": "python3"
  },
  "language_info": {
   "codemirror_mode": {
    "name": "ipython",
    "version": 3
   },
   "file_extension": ".py",
   "mimetype": "text/x-python",
   "name": "python",
   "nbconvert_exporter": "python",
   "pygments_lexer": "ipython3",
   "version": "3.11.5"
  }
 },
 "nbformat": 4,
 "nbformat_minor": 2
}
